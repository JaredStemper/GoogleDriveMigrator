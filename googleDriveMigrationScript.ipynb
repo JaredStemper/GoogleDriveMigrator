{
  "nbformat": 4,
  "nbformat_minor": 0,
  "metadata": {
    "colab": {
      "name": "googleDriveMigrationScript.ipynb",
      "provenance": [],
      "collapsed_sections": [],
      "authorship_tag": "ABX9TyO4yf3rh/7Tkp0gVPp6J7Ml",
      "include_colab_link": true
    },
    "kernelspec": {
      "name": "python3",
      "display_name": "Python 3"
    },
    "language_info": {
      "name": "python"
    }
  },
  "cells": [
    {
      "cell_type": "markdown",
      "metadata": {
        "id": "view-in-github",
        "colab_type": "text"
      },
      "source": [
        "<a href=\"https://colab.research.google.com/github/JaredStemper/GoogleDriveMigrator/blob/main/googleDriveMigrationScript.ipynb\" target=\"_parent\"><img src=\"https://colab.research.google.com/assets/colab-badge.svg\" alt=\"Open In Colab\"/></a>"
      ]
    },
    {
      "cell_type": "code",
      "metadata": {
        "id": "kGDLXftnGzqQ"
      },
      "source": [
        "from google.colab import drive\n",
        "drive.mount('/gdrive')\n"
      ],
      "execution_count": null,
      "outputs": []
    },
    {
      "cell_type": "code",
      "metadata": {
        "id": "mbGxJjT9NpEa"
      },
      "source": [
        "!pip install -U -q PyDrive\n",
        "import os\n",
        "from pydrive.auth import GoogleAuth\n",
        "from pydrive.drive import GoogleDrive\n",
        "from google.colab import auth\n",
        "from oauth2client.client import GoogleCredentials"
      ],
      "execution_count": 4,
      "outputs": []
    },
    {
      "cell_type": "code",
      "metadata": {
        "id": "dRoXNq3mOS4Y"
      },
      "source": [
        "#authenticate and create the PyDrive client.\n",
        "auth.authenticate_user()\n",
        "gauth = GoogleAuth()\n",
        "gauth.credentials = GoogleCredentials.get_application_default()\n",
        "drive = GoogleDrive(gauth)\n",
        "\n",
        "#will fail on google forms\n",
        "MIMETYPES = {\n",
        "        # Drive Document files as MS dox\n",
        "        'application/vnd.google-apps.document': 'application/vnd.openxmlformats-officedocument.wordprocessingml.document',\n",
        "        # Drive Sheets files as MS Excel files.\n",
        "        'application/vnd.google-apps.spreadsheet': 'application/vnd.openxmlformats-officedocument.spreadsheetml.sheet',\n",
        "        # Drive presentation as MS pptx\n",
        "        'application/vnd.google-apps.presentation': 'application/vnd.openxmlformats-officedocument.presentationml.presentation'\n",
        "        # see https://developers.google.com/drive/v3/web/mime-types\n",
        "    }\n",
        "EXTENSIONS = {\n",
        "        'application/vnd.google-apps.document': '.docx',\n",
        "        'application/vnd.google-apps.spreadsheet': '.xlsx',\n",
        "        'application/vnd.google-apps.presentation': '.pptx'\n",
        "}"
      ],
      "execution_count": 6,
      "outputs": []
    },
    {
      "cell_type": "code",
      "metadata": {
        "id": "GB_utm9PVG7_"
      },
      "source": [
        "def escape_fname(name):\n",
        "    return name.replace('/','_')\n",
        "\n",
        "def create_folder(path,name):\n",
        "    os.mkdir('{}{}'.format(path,escape_fname(name)))\n",
        "\n",
        "\"\"\"\n",
        "get the id by going to the folder you want to copy to/from, and grabbing the last section of text from the web address\n",
        "\n",
        "e.g. with https://drive.google.com/drive/u/2/folders/190-923045f9srOeE3zHpPmUxK1wOT\n",
        "     the id of the folder is '190-923045f9srOeE3zHpPmUxK1wOT'\n",
        "\n",
        "You will need to do this with both the source and destination folder.\n",
        "\"\"\"\n",
        "folder_id = 'TODO'\n",
        "root_id = 'TODO'\n",
        "root = '/gdrive/MyDrive/drive_download' #make sure to change \"drive_download\" to the name of your destination folder if it differs"
      ],
      "execution_count": null,
      "outputs": []
    },
    {
      "cell_type": "code",
      "metadata": {
        "colab": {
          "base_uri": "https://localhost:8080/"
        },
        "id": "mRTx09zPZRKu",
        "outputId": "7524d17b-4083-41e8-d3f3-c6e2f809bd8f"
      },
      "source": [
        "def search_folder(folder_id, root):\n",
        "    file_list = drive.ListFile({'q': \"'%s' in parents and trashed=false\" % folder_id}).GetList()\n",
        "    root_file_list = drive.ListFile({'q': \"'%s' in parents and trashed=false\" % root_id}).GetList()\n",
        "    skipFolderList = [] #optional variable to include the name of any folders that shouldn't be copied\n",
        "    for file in file_list:\n",
        "        # print('title: %s, id: %s, kind: %s' % (file['title'], file['id'], file['mimeType']))\n",
        "        # print(file)\n",
        "        if file['mimeType'].split('.')[-1] == 'folder':\n",
        "            foldername = escape_fname(file['title'])\n",
        "            #avoid any unnecessary folders\n",
        "            if foldername in skipFolderList:\n",
        "              continue\n",
        "            print(root,foldername)\n",
        "            try:\n",
        "                create_folder(root,foldername)\n",
        "            except FileExistsError:\n",
        "              continue\n",
        "            search_folder(file['id'], '{}{}/'.format(root,foldername))\n",
        "        else:\n",
        "            download_mimetype = None\n",
        "            filename = escape_fname(file['title'])\n",
        "            filename = '{}{}'.format(root,filename)\n",
        "            try:\n",
        "                print('DOWNLOADING:', filename)\n",
        "                if file['mimeType'] in MIMETYPES:\n",
        "                   download_mimetype = MIMETYPES[file['mimeType']]\n",
        "                   file.GetContentFile(filename+EXTENSIONS[file['mimeType']], mimetype=download_mimetype)\n",
        "                else:\n",
        "                   file.GetContentFile(filename)\n",
        "            except FileExistsError:\n",
        "              continue\n",
        "            except:\n",
        "              print('FAILED:', filename)\n",
        "              f.write(filename+'\\n')\n",
        "\n",
        "with open(\"failed.txt\",\"w+\") as failed:\n",
        "  search_folder(folder_id,root+'/')"
      ],
      "execution_count": 16
    }
  ]
}
